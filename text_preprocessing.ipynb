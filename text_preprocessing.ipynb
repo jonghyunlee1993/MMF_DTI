{
 "cells": [
  {
   "cell_type": "code",
   "execution_count": 92,
   "id": "b8a45f6b-c3f8-4474-9828-431bbd2293fe",
   "metadata": {},
   "outputs": [],
   "source": [
    "import pandas as pd\n",
    "\n",
    "df = pd.read_csv(\"data/uniprotkb_reviewed_true_2023_09_25.tsv\", sep=\"\\t\")\n",
    "df = df.dropna().reset_index(drop=True)"
   ]
  },
  {
   "cell_type": "code",
   "execution_count": 99,
   "id": "5be2dd6c-ee6f-4487-8d47-9e43e45f9f59",
   "metadata": {},
   "outputs": [],
   "source": [
    "import re\n",
    "\n",
    "def remove_pubmed_pattern_1(text):\n",
    "    pattern = re.compile(r'\\s+\\(PubMed:\\d+(?:, PubMed:\\d+)*\\)')\n",
    "    result = re.sub(pattern, '', text)\n",
    "    return result\n",
    "\n",
    "def remove_pubmed_pattern_2(text):\n",
    "    # pattern = re.compile(r'\\s+\\{ECO:\\d+\\|[^:]+:[^,]+(?:,\\s*ECO:\\d+\\|[^:]+:[^,]+)*\\}[\\.;]')\n",
    "    pattern = re.compile(r'\\{ECO:\\d+(?:\\|\\w+:[^,]+(?:,\\s*\\w+:[^,]+)*)*\\}[\\.;]')\n",
    "    result = re.sub(pattern, '', text)\n",
    "    result = result.replace(\";\", \"\")\n",
    "    return result\n",
    "\n",
    "def preproc_text(x):\n",
    "    x = str(x)\n",
    "    x = remove_pubmed_pattern_1(x)\n",
    "    x = remove_pubmed_pattern_2(x)\n",
    "\n",
    "    return x\n",
    "\n",
    "# Example usage:\n",
    "# original_text = df.loc[414, \"function\"]\n",
    "# original_text = 'Component of the nascent polypeptide-associated complex (NAC), a dynamic component of the ribosomal exit tunnel, protecting the emerging polypeptides from interaction with other cytoplasmic proteins to ensure appropriate nascent protein targeting. The NAC complex also promotes mitochondrial protein import by enhancing productive ribosome interactions with the outer mitochondrial membrane and blocks the inappropriate interaction of ribosomes translating non-secretory nascent polypeptides with translocation sites in the membrane of the endoplasmic reticulum. EGD1 may act as a transcription factor that exert a negative effect on the expression of several genes that are transcribed by RNA polymerase II. {ECO:0000250}.'\n",
    "# modified_text = preproc_text(original_text)\n",
    "# modified_text = remove_pubmed_pattern_1(original_text)\n",
    "# modified_text = remove_pubmed_pattern_2(modified_text)\n",
    "\n",
    "# print(\"Original Text:\", original_text)\n",
    "\n",
    "# print()\n",
    "# print(\"Modified Text:\", modified_text)\n",
    "\n",
    "df['function'] = df['function'].map(preproc_text)\n",
    "df = df.dropna().reset_index(drop=True)\n",
    "df.to_csv(\"data/prepared_uniprot.csv\", index=False)"
   ]
  },
  {
   "cell_type": "code",
   "execution_count": 100,
   "id": "1b0cc7f2-1e4b-4315-b207-1f4ee6cc1661",
   "metadata": {},
   "outputs": [
    {
     "data": {
      "application/vnd.jupyter.widget-view+json": {
       "model_id": "3550bf933e004340bbbe2c0c1d2c01d5",
       "version_major": 2,
       "version_minor": 0
      },
      "text/plain": [
       "Downloading data files:   0%|          | 0/1 [00:00<?, ?it/s]"
      ]
     },
     "metadata": {},
     "output_type": "display_data"
    },
    {
     "data": {
      "application/vnd.jupyter.widget-view+json": {
       "model_id": "2133451d01d543f582f095e07e9d5e51",
       "version_major": 2,
       "version_minor": 0
      },
      "text/plain": [
       "Extracting data files:   0%|          | 0/1 [00:00<?, ?it/s]"
      ]
     },
     "metadata": {},
     "output_type": "display_data"
    },
    {
     "data": {
      "application/vnd.jupyter.widget-view+json": {
       "model_id": "4b4415df5ade4d94a9f0fdcb0166dcfc",
       "version_major": 2,
       "version_minor": 0
      },
      "text/plain": [
       "Generating train split: 0 examples [00:00, ? examples/s]"
      ]
     },
     "metadata": {},
     "output_type": "display_data"
    }
   ],
   "source": [
    "from datasets import load_dataset\n",
    "\n",
    "custom_dataset = load_dataset(\"csv\", data_files=\"data/prepared_uniprot.csv\", split=\"train\")\n",
    "custom_dataset = custom_dataset.remove_columns([\"entry\", \"entry_name\", \"protein_name\", \"sequence\"])\n",
    "custom_dataset = custom_dataset.train_test_split(test_size=0.2, seed=42)"
   ]
  },
  {
   "cell_type": "code",
   "execution_count": 102,
   "id": "e90591a5-3cc2-4822-916a-1d5a3ca28082",
   "metadata": {},
   "outputs": [
    {
     "data": {
      "application/vnd.jupyter.widget-view+json": {
       "model_id": "b117838f1e204ac8bf308526e4779b92",
       "version_major": 2,
       "version_minor": 0
      },
      "text/plain": [
       "Map:   0%|          | 0/371516 [00:00<?, ? examples/s]"
      ]
     },
     "metadata": {},
     "output_type": "display_data"
    },
    {
     "data": {
      "application/vnd.jupyter.widget-view+json": {
       "model_id": "e105a06a1b564a1ea57ac30b133efe26",
       "version_major": 2,
       "version_minor": 0
      },
      "text/plain": [
       "Map:   0%|          | 0/92879 [00:00<?, ? examples/s]"
      ]
     },
     "metadata": {},
     "output_type": "display_data"
    }
   ],
   "source": [
    "from transformers import AutoTokenizer\n",
    "tokenizer = AutoTokenizer.from_pretrained(\"bert-base-cased\")\n",
    "\n",
    "def tokenize_function(examples):\n",
    "    return tokenizer(examples[\"function\"], padding=\"max_length\", truncation=True)\n",
    "\n",
    "tokenized_datasets = custom_dataset.map(tokenize_function, batched=True)"
   ]
  },
  {
   "cell_type": "code",
   "execution_count": 103,
   "id": "aa9f316c-ee73-4794-9c1d-f965742bf180",
   "metadata": {},
   "outputs": [
    {
     "data": {
      "application/vnd.jupyter.widget-view+json": {
       "model_id": "3be05cd045a8444484ab9b39172927ac",
       "version_major": 2,
       "version_minor": 0
      },
      "text/plain": [
       "Saving the dataset (0/3 shards):   0%|          | 0/371516 [00:00<?, ? examples/s]"
      ]
     },
     "metadata": {},
     "output_type": "display_data"
    },
    {
     "data": {
      "application/vnd.jupyter.widget-view+json": {
       "model_id": "7fa09c34c80b4cbfbd3c5282955d5bca",
       "version_major": 2,
       "version_minor": 0
      },
      "text/plain": [
       "Saving the dataset (0/1 shards):   0%|          | 0/92879 [00:00<?, ? examples/s]"
      ]
     },
     "metadata": {},
     "output_type": "display_data"
    }
   ],
   "source": [
    "tokenized_datasets.save_to_disk(\"prepared_uniprot\")"
   ]
  },
  {
   "cell_type": "code",
   "execution_count": null,
   "id": "498afde7-8f5c-473d-b55f-0505572c830d",
   "metadata": {},
   "outputs": [],
   "source": []
  }
 ],
 "metadata": {
  "kernelspec": {
   "display_name": "Python 3 (ipykernel)",
   "language": "python",
   "name": "python3"
  },
  "language_info": {
   "codemirror_mode": {
    "name": "ipython",
    "version": 3
   },
   "file_extension": ".py",
   "mimetype": "text/x-python",
   "name": "python",
   "nbconvert_exporter": "python",
   "pygments_lexer": "ipython3",
   "version": "3.9.18"
  }
 },
 "nbformat": 4,
 "nbformat_minor": 5
}
